{
 "cells": [
  {
   "cell_type": "markdown",
   "id": "8861f0ac-7ef2-4ce0-b9bd-b7364d946549",
   "metadata": {
    "tags": []
   },
   "source": [
    "# Acceptance analysis of Direct Air Capture and Storage"
   ]
  },
  {
   "cell_type": "markdown",
   "id": "74dc9c2b-c851-40a0-85a7-9e6b2b0040d3",
   "metadata": {},
   "source": [
    "Documentation of the analysis."
   ]
  },
  {
   "cell_type": "markdown",
   "id": "291b9481",
   "metadata": {},
   "source": [
    "## Overview and correlation matrix"
   ]
  },
  {
   "cell_type": "code",
   "execution_count": null,
   "id": "74eb71df",
   "metadata": {},
   "outputs": [],
   "source": [
    "from dacstore.utils import get_data, ensure_floats, get_data\n",
    "from dacstore.config import encoding, replacer, weighting_groups, analyze_cols\n",
    "from dacstore.dac_analysis import compute_group_averages, set_no_knowledge_to_neutral\n",
    "import seaborn as sns\n",
    "import matplotlib.pyplot as plt\n",
    "\n",
    "cols = [\n",
    "    \"climate_change_perception\",\n",
    "    \"tampering\",\n",
    "    \"maturity\",\n",
    "    \"benefit\",\n",
    "    \"cost\",\n",
    "    \"risk\",\n",
    "    \"trust\",\n",
    "    \"emotion\",\n",
    "    \"distance\",\n",
    "    \"dac_knowledge\",\n",
    "    \"storage_knowledge\",\n",
    "    \"initial_storage_support\",\n",
    "    \"final_storage_support\",\n",
    "    \"initial_dac_support\",\n",
    "    \"final_dac_support\",\n",
    "    \"age\",\n",
    "    \"gender\",\n",
    "    \"education\",\n",
    "    \"occupation\",\n",
    "    \"state\",\n",
    "]\n",
    "\n",
    "\n",
    "y_col = \"final_dac_support\"\n",
    "\n",
    "independent = [\n",
    "    \"final_dac_support\",\n",
    "    \"final_storage_support\",\n",
    "    \"initial_storage_support\",\n",
    "    \"initial_dac_support\",\n",
    "]\n",
    "\n",
    "# USER = \"1392724-1415\"\n",
    "# PASSWORD = \"it0pb4rmeggkl0dq4bk26k36s9wg4e7xydo5\"\n",
    "\n",
    "\n",
    "def create_numeric_data(df):\n",
    "    \"\"\"Create numeric data for regressions\"\"\"\n",
    "    df = df.replace(replacer)\n",
    "    df = ensure_floats(df, weighting_groups)\n",
    "    df = compute_group_averages(df, weighting_groups)\n",
    "    return df\n",
    "\n",
    "\n",
    "# we work here with the original column names, no translation\n",
    "df = get_data(\n",
    "    source=\"../data/data.csv\",\n",
    "    drop=True,\n",
    "    translate=False,\n",
    "    drop_invalid=True,\n",
    "    no_knowledge_to_neutral=True,\n",
    "    set_dependent=True,\n",
    ")\n",
    "\n",
    "# an invalid entry (completed but more than 24hr completion time)\n",
    "df = df.drop(91621021)\n",
    "\n",
    "df = create_numeric_data(df)\n",
    "df = df[weighting_groups.keys()]\n",
    "df = df[~df.isna().any(axis=1)]\n",
    "df = df[cols]\n",
    "\n",
    "fig, ax = plt.subplots(figsize=(12, 12))\n",
    "sns.heatmap(df.corr(), annot=True, cmap=\"coolwarm\", ax=ax, annot_kws={\"fontsize\": 9})"
   ]
  },
  {
   "cell_type": "markdown",
   "id": "71980019-57e9-49da-bb5a-259497f81313",
   "metadata": {},
   "source": [
    "## Creating the model\n",
    "\n",
    "We load the data:"
   ]
  },
  {
   "cell_type": "markdown",
   "id": "dbca2634-91ef-43a1-b9dc-c19c7b426c24",
   "metadata": {},
   "source": [
    "## Plots"
   ]
  },
  {
   "cell_type": "markdown",
   "id": "d8fd9221-88c8-45ec-b3e1-9380944ab249",
   "metadata": {},
   "source": [
    "Let's have a look at the filename."
   ]
  }
 ],
 "metadata": {
  "kernelspec": {
   "display_name": "dacstore",
   "language": "python",
   "name": "python3"
  },
  "language_info": {
   "codemirror_mode": {
    "name": "ipython",
    "version": 3
   },
   "file_extension": ".py",
   "mimetype": "text/x-python",
   "name": "python",
   "nbconvert_exporter": "python",
   "pygments_lexer": "ipython3",
   "version": "3.10.14"
  }
 },
 "nbformat": 4,
 "nbformat_minor": 5
}
